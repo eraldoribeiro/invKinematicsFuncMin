{
 "cells": [
  {
   "cell_type": "markdown",
   "id": "39fa9c03",
   "metadata": {},
   "source": [
    "# Animating a 3-D Robot: Inverse Kinematics and Cost-Function Minimization\n",
    "\n"
   ]
  },
  {
   "cell_type": "code",
   "execution_count": 1,
   "id": "565c7998",
   "metadata": {},
   "outputs": [],
   "source": [
    "# multimodal function\n",
    "import numpy as np\n",
    "import matplotlib.pyplot as plt"
   ]
  },
  {
   "cell_type": "markdown",
   "id": "da398a8c",
   "metadata": {},
   "source": [
    "---\n",
    "This notebook implements version of the method described in the following paper: \n",
    "- David E. Breen. Cost minimization for animated geometric models in computer graphics. The Journal of Visualization and Computer Animation, 8(4):201–220, 1997.\n",
    "---"
   ]
  },
  {
   "cell_type": "markdown",
   "id": "936734d3",
   "metadata": {},
   "source": [
    "![](figs/robot_path.png)\n",
    "**Figure 1:** Goal-oriented animation: The robot arm moves from one target location to another while avoiding obstacles. The yelllow spheres represent the targets. "
   ]
  },
  {
   "cell_type": "markdown",
   "id": "2ac549fe",
   "metadata": {},
   "source": [
    "## The cost function \n",
    "\n",
    "The animation is achieved by using the gradient-descent algorithm to solve the following minimization problem: \n",
    "\n",
    "$$\n",
    "\\begin{align}\n",
    "\t\\hat{\\bf \\Phi} = \\arg_{{{\\bf \\Phi}}}\\min  C\\left({\\bf \\Phi}\\right),\n",
    "\t\\label{simple_motion_min}\n",
    "\\end{align}\n",
    "$$\n",
    "\n",
    "where the cost function $C$ is defined by:\n",
    "\n",
    "$$\n",
    "\\begin{align}\n",
    "\tC\\left({\\bf \\Phi}\\right) = \\underbrace{\\|{\\bf e}\\left({\\bf \\Phi}\\right) - {\\bf g}\\|}_{\\text{goal attraction}} + \\underbrace{\\sum_{i=1}^{n} \\mathcal{F}_R\\left(\\|{\\bf e}\\left({\\bf \\Phi}\\right) - {\\bf o}_i\\|\\right)}_{\\text{obstacle-avoidance penalty}} + \\underbrace{\\sum_{j=1}^{m} \\mathcal{L}\\left(\\phi_j\\right)}_{\\text{Joint-range limit}}.\n",
    "\t\\label{simple_motion}\n",
    "\\end{align}\n",
    "$$\n",
    "\n",
    "Here, ${\\bf g} = \\left(x_g, y_g, z_g\\right)^\\mathsf{T}$ is the *goal location*, ${\\bf o}_i$ is the location of obstacle $i$. The summation limits are $n$, which is the numeber obstacles, and $m$, which is the number of joints to be constrained. Function ${\\bf e}\\left({\\bf \\Phi}\\right)$ computes the arm's *forward kinematics* and returns the location of the arm's tip ${\\bf e} = \\left( e_x, e_y, e_z \\right)^\\mathsf{T}$, i.e., the *end-effector's location,* given the arm's joint angles, ${\\bf \\Phi} = \\left( \\phi_1, \\phi_2,  \\phi_3, \\phi_4\\right)^\\mathsf{T}$.   Function $\\mathcal{F}_R$ is a collision-avoidance penalty field. It penalizes poses that take the end effector too close to an obstacle, i.e., beyond a pre-defined distance $R$. The third component of Equation $\\ref{simple_motion}$  limits the range of each joint angle. Function $\\mathcal{L}$ is another penalty function. Its value increases as the joint angle $\\phi_j$ approaches its maximum or minimum limit. Outside these limits, $\\mathcal{L}$ vanishes. \n",
    "\n",
    "Next, we describe the components of the cost function in  ($\\ref{simple_motion}$) in more detail. \n",
    "\n",
    "\n",
    "### The attraction term\n",
    "\n",
    "The goal-attraction term measures the distance between the end effector's current position and the goal location. During the animation, the attraction term guides the end-effector towards the goal location. Since its equation is the Euclidean norm (or Euclidean distance), the minimal-solution path, when disregarding obstacles and joint range limits, is a straight line from the end-effector's current location to the goal location. \n",
    "\n",
    "$$\n",
    "\\begin{align}\n",
    "\tC_1\\left({\\bf \\Phi}\\right) = \\|{\\bf e}\\left({\\bf \\Phi}\\right) - {\\bf g}\\|\n",
    "\\end{align}\n",
    "$$\n"
   ]
  },
  {
   "cell_type": "code",
   "execution_count": 2,
   "id": "cdda5099",
   "metadata": {},
   "outputs": [],
   "source": [
    "def goal_attraction(e_Phi: np.ndarray, g: np.ndarray) -> float:\n",
    "    \"\"\"Computes the value of the goal-attraction cost \n",
    "    \n",
    "    Args:\n",
    "        e_Phi (np.ndarray): A 3x1 column matrix containing the \n",
    "                        (ex,ey,ez) coordinates of the current \n",
    "                        location of the end effector.\n",
    "                        \n",
    "        g (np.ndarray): A 3x1 column matrix containing the \n",
    "                        (gx,gy,gz) coordinates of the \n",
    "                        location of the goal point.\n",
    "\n",
    "    Returns:\n",
    "        cost (float):   The calculated cost \n",
    "    \n",
    "      \"\"\"\n",
    "    \n",
    "    c = np.linalg.norm(e_Phi - g)\n",
    "    \n",
    "        \n",
    "    return c    # float "
   ]
  },
  {
   "cell_type": "code",
   "execution_count": 3,
   "id": "e7e78b3f",
   "metadata": {},
   "outputs": [
    {
     "data": {
      "text/plain": [
       "1.0"
      ]
     },
     "execution_count": 3,
     "metadata": {},
     "output_type": "execute_result"
    }
   ],
   "source": [
    "g = np.array([[0],[1],[0]])\n",
    "e_Phi = np.array([[0],[0],[0]])\n",
    "\n",
    "\n",
    "goal_attraction(e_Phi, g)"
   ]
  },
  {
   "cell_type": "markdown",
   "id": "ab789358",
   "metadata": {},
   "source": [
    "### The field potential function for obstacle avoidance\n",
    "\n",
    "The field potential is a *penalty term* that increases its value as the end effector approaches an obstacle. It is defined as follows: \n",
    "\n",
    "$$\n",
    "\\begin{align}\n",
    "        \\mathcal{F}_R\\left(d\\right) = \n",
    "\t\\begin{cases}\n",
    "\t\t\\ln\\left(R/d\\right), & 0 < d \\leq R,\\\\\n",
    "\t\t0,                         &d > R.\n",
    "\t\\end{cases}\n",
    "\t\\label{field_function1}\n",
    "\\end{align}\t\n",
    "$$"
   ]
  },
  {
   "cell_type": "code",
   "execution_count": 4,
   "id": "b7b35138",
   "metadata": {},
   "outputs": [],
   "source": [
    "def F_R(d: float) -> float:\n",
    "    \"\"\"Computes the value of the field potential for \n",
    "       obstacle-avoidance cost \n",
    "    \n",
    "    Args:\n",
    "        d (np.float): Distance between the end-effector and \n",
    "                      the obstacle.                        \n",
    "\n",
    "    Returns:\n",
    "        cost (float):   The calculated cost \n",
    "    \n",
    "      \"\"\"\n",
    "    \n",
    "    # Assume that all objects have the same size. \n",
    "    # Radius (approx) of the object. It might \n",
    "    # need to be a bit larger than the actual \n",
    "    # radius of the object.\n",
    "    R = 45 \n",
    "  \n",
    "    # TODO \n",
    "    if d > R:\n",
    "        cost = 0\n",
    "    else:\n",
    "        cost = np.log(R/d)\n",
    "        \n",
    "    return cost   # float "
   ]
  },
  {
   "cell_type": "code",
   "execution_count": 5,
   "id": "d7550e0b",
   "metadata": {},
   "outputs": [
    {
     "name": "stdout",
     "output_type": "stream",
     "text": [
      "[10  0  0]\n",
      "43.95452195167182\n",
      "Cost of obstacle ( 0 ) =  0.023506982384087993\n"
     ]
    }
   ],
   "source": [
    "# End-effector location \n",
    "e_Phi = np.array([[3],\n",
    "                  [0],\n",
    "                  [0]])\n",
    "\n",
    "# Location of obstacles \n",
    "obstacle = np.array([[10, 10], \n",
    "                     [15, 0],\n",
    "                     [20, 0]])\n",
    "print(obstacle[:,1])\n",
    "\n",
    "i = 0\n",
    "d = np.linalg.norm(e_Phi - obstacle[:,i])\n",
    "print(d)\n",
    "\n",
    "print(\"Cost of obstacle (\", i,\") = \", F_R(d)) \n",
    "\n"
   ]
  },
  {
   "cell_type": "markdown",
   "id": "9985560d",
   "metadata": {},
   "source": [
    "### The \"range-of-motion\" limit function  \n",
    "\n",
    "The limit function constrains the range of motion of the joints (i.e., angles), and is given by: \n",
    "\n",
    "$$\n",
    "\\begin{align}\n",
    "        \\mathcal{L}\\left(\\phi\\right) = \n",
    "\t\\begin{cases}\n",
    "\t\t\\ln\\left(\\delta/\\left(\\phi-\\phi_\\text{min}\\right)\\right), & \\phi_\\text{min} < \\phi \\leq \\phi_\\text{min} + \\delta\\\\\n",
    "\t\t0,                         & \\phi_\\text{min} + \\delta < \\phi < \\phi_\\text{max} - \\delta\\\\\n",
    "\t\t\\ln\\left(\\delta/\\left(\\phi_\\text{max} - \\phi\\right)\\right), & \\phi_\\text{max} - \\delta \\leq \\phi < \\phi_\\text{max},\\\\\n",
    "\t\\end{cases}\n",
    "\t\\label{limit_function}\n",
    "\\end{align}\t\n",
    "$$\n",
    "\n",
    "where $\\phi$ is the joint angle, $\\phi_\\text{min}$ and $\\phi_\\text{max}$ are the limits of that joint, and $\\delta$ is the angular distance from each of the limits after which the limit function vanishes. "
   ]
  },
  {
   "cell_type": "code",
   "execution_count": 6,
   "id": "2738b2f2",
   "metadata": {},
   "outputs": [],
   "source": [
    "def L(phi:float) -> float:\n",
    "    \"\"\"Computes the value of the field potential for \n",
    "       the joint-limit cost \n",
    "    \n",
    "    Args:\n",
    "        phi (float): Joint angle \n",
    "\n",
    "    Returns:\n",
    "        cost (float): The calculated cost \n",
    "    \n",
    "      \"\"\"\n",
    "\n",
    "    # Assume all limits and delta to be the same\n",
    "    phi_min = 90        # Joint's minimum angle limit.                        \n",
    "    \n",
    "    phi_max = 270       # Joint's maximum angle limit.\n",
    "    \n",
    "    delta   = 45       # The angular distance from each of \n",
    "                       # the limits after which the limit \n",
    "                       # function vanishes.\n",
    "    \n",
    "    # TODO\n",
    "    if phi_min < phi and phi <= (phi_min + delta):\n",
    "        c = np.log(delta / (phi - phi_min))\n",
    "    elif (phi_max - delta) < phi and phi < phi_max:\n",
    "        c = np.log(delta / (phi_max - phi))\n",
    "    else:\n",
    "        c = 0\n",
    "    \n",
    "    return c   # float "
   ]
  },
  {
   "cell_type": "code",
   "execution_count": 8,
   "id": "eb7c280d",
   "metadata": {},
   "outputs": [
    {
     "data": {
      "text/plain": [
       "0"
      ]
     },
     "execution_count": 8,
     "metadata": {},
     "output_type": "execute_result"
    }
   ],
   "source": [
    "L(30)"
   ]
  },
  {
   "cell_type": "code",
   "execution_count": 17,
   "id": "be85040f",
   "metadata": {},
   "outputs": [],
   "source": [
    "def getTransformation(t, theta, rot):\n",
    "\n",
    "    if theta == -1:  # no rotation\n",
    "        R = np.eye(3)\n",
    "\n",
    "    else:\n",
    "        #c = math.cos(math.radians(theta))\n",
    "        #s = math.sin(math.radians(theta))\n",
    "        c = np.cos(theta * np.pi / 180)\n",
    "        s = np.sin(theta * np.pi / 180)\n",
    "        \n",
    "        if rot == 'x':\n",
    "          R = np.array(\n",
    "              [[1, 0, 0],\n",
    "              [0, c, -s],\n",
    "              [0, s, c]]\n",
    "          )\n",
    "        elif rot == 'y':\n",
    "          R = np.array(\n",
    "              [[c, 0, s],\n",
    "              [0, 1, 0],\n",
    "              [-s, 0, c]]\n",
    "          )\n",
    "        else: # rot = 'z'\n",
    "          R = np.array(\n",
    "              [[c, -s, 0],\n",
    "              [s, c, 0],\n",
    "              [0, 0, 1]]\n",
    "          )\n",
    "\n",
    "    T = np.block([[R, t],\n",
    "                  [np.zeros((1, 3)), 1]])\n",
    "\n",
    "    return T"
   ]
  },
  {
   "cell_type": "code",
   "execution_count": 18,
   "id": "4a44f4db",
   "metadata": {},
   "outputs": [],
   "source": [
    "# Find (x,y,z) location of ee in global coordinates\n",
    "def end_effector(Phi):\n",
    "    l1 = 3\n",
    "    l2 = 6\n",
    "    l3 = 5\n",
    "    l4 = 4\n",
    "    p1 = np.array([[3],[2],[0]])\n",
    "    p2 = np.array([[0],[0],[l1]])\n",
    "    p3 = np.array([[0],[0],[l2]])\n",
    "    p4 = np.array([[0],[0],[l3]])\n",
    "    p5 = np.array([[0],[0],[l4]])\n",
    "    \n",
    "    # Local transformation matrices \n",
    "    \n",
    "     \n",
    "    T_01 = getTransformation(p1, Phi[0],'y')\n",
    "    T_12 = getTransformation(p2, Phi[1],'y')\n",
    "    T_23 = getTransformation(p3, Phi[2],'y')\n",
    "    T_34 = getTransformation(p4, Phi[3],'y')\n",
    "\n",
    "    # Local-to-global transformation matrices\n",
    "    T_04 = T_01@T_12@T_23@T_34\n",
    "    \n",
    "    e = T_04[:3,3]\n",
    "    print('E:',e)\n",
    "    \n",
    "    return e "
   ]
  },
  {
   "cell_type": "code",
   "execution_count": 19,
   "id": "55cb67b1",
   "metadata": {},
   "outputs": [
    {
     "name": "stdout",
     "output_type": "stream",
     "text": [
      "E: [10.85107155  2.         10.65057568]\n"
     ]
    },
    {
     "data": {
      "text/plain": [
       "array([10.85107155,  2.        , 10.65057568])"
      ]
     },
     "execution_count": 19,
     "metadata": {},
     "output_type": "execute_result"
    }
   ],
   "source": [
    "# Test array of joint angles \n",
    "Phi = np.array([10,20,30,40])   \n",
    "\n",
    "# End-effector position\n",
    "end_effector(Phi)"
   ]
  },
  {
   "cell_type": "code",
   "execution_count": 10,
   "id": "90f452cc",
   "metadata": {},
   "outputs": [
    {
     "name": "stdout",
     "output_type": "stream",
     "text": [
      "59.16079783099616\n",
      "59.62515445693251\n",
      "59.62515445693251\n"
     ]
    }
   ],
   "source": [
    "# Cost function \n",
    "#def C(Phi, goal_location): \n",
    "\n",
    "# Goal (target) location \n",
    "g = np.array([[30],[50],[10]])\n",
    "\n",
    "# Current joint-angle configuration\n",
    "Phi = np.array([[0],[11],[22],[33]])\n",
    "\n",
    "# End-effector location \n",
    "e_Phi = end_effector(Phi)\n",
    "\n",
    "# Obstacles \n",
    "num_obstacles = 3\n",
    "\n",
    "# Location of obstacles \n",
    "obstacle = np.array([[10,10,10], \n",
    "                     [15,10,10], \n",
    "                     [20,20,10]])\n",
    "\n",
    "\n",
    "\n",
    "cost = 0\n",
    "\n",
    "cost = np.linalg.norm(e_Phi - g) \n",
    "print(cost)\n",
    "\n",
    "\n",
    "cost += sum(F_R(np.linalg.norm(e_Phi - obstacle[:,j])) for j in range(num_obstacles))\n",
    "print(cost)\n",
    "\n",
    "cost += sum(L(phi) for phi in Phi)  \n",
    "print(cost)\n",
    "#return cost\n",
    "\n"
   ]
  },
  {
   "cell_type": "markdown",
   "id": "53a62953",
   "metadata": {},
   "source": [
    "### Numerical approximation of the Jacobian matrix \n",
    "\n",
    "The first column vector of this Jacobian describes how the end-effector position changes for small changes in joint angle $\\phi_1$. Similarly, the second column vector describes how the end-effector position changes for small changes in joint angle $\\phi_2$. Note that each component of the Jacobian matrix in Equation $\\ref{jacobian_e}$ is equivalent to a 1st-order derivative of a scalar function of a single variable, and can be approximated numerically using finite differences. The approximated Jacobian is then: \n",
    "\n",
    "$$\n",
    "\\begin{align}\n",
    "          J\\left({\\bf e},{\\bf \\Phi}\\right) \\approx  \n",
    "          \\begin{bmatrix}\n",
    "          \t \\dfrac{\\Delta{\\bf e}}{\\Delta\\phi_1}  & \\dfrac{\\Delta{\\bf e}}{\\Delta\\phi_2}  & \\dfrac{\\Delta{\\bf e}}{\\Delta\\phi_3}  & \\dfrac{\\Delta{\\bf e}}{\\Delta\\phi_4}\n",
    "          \\end{bmatrix} =           \n",
    "          \\begin{bmatrix}\n",
    "          \t  \\dfrac{\\Delta e_x}{\\Delta\\phi_1}  & \\dfrac{\\Delta e_x}{\\Delta\\phi_2}   & \\dfrac{\\Delta e_x}{\\Delta\\phi_3}  & \\dfrac{\\Delta e_x}{\\Delta\\phi_4}\\\\[1em]\n",
    "          \t \\dfrac{\\Delta e_y}{\\Delta\\phi_1}  & \\dfrac{\\Delta e_y}{\\Delta\\phi_2}   & \\dfrac{\\Delta e_y}{\\Delta\\phi_3}  & \\dfrac{\\Delta e_y}{\\Delta\\phi_4}\\\\[1em]\t \n",
    "          \t \\dfrac{\\Delta e_z}{\\Delta\\phi_1}  & \\dfrac{\\Delta e_z}{\\Delta\\phi_2}   & \\dfrac{\\Delta e_z}{\\Delta\\phi_3}  & \\dfrac{\\Delta e_z}{\\Delta\\phi_4}\t \n",
    "\t \\end{bmatrix}.          \n",
    "\t\\label{jacobian_e_approx}\n",
    "\\end{align}\n",
    "$$\n",
    "\n",
    "for a small $\\Delta \\phi_i, i=1,\\dots,4$, where the elements of the matrix in ($\\ref{jacobian_e_approx}$) are forward finite differences. We can also write the columns of the Jacobian matrix in terms of ${\\bf e}\\left(\\Phi\\right)$ as follows:\n",
    "\n",
    "$$\n",
    "\\begin{align}\n",
    "        \\frac{\\Delta {\\bf e}}{\\Delta \\phi_i} = \\frac{{\\bf e}\\left({\\bf \\Phi}+\\Delta {\\bf \\Phi}_i\\right) - {\\bf e}\\left({\\bf \\Phi}\\right)}{\\Delta \\phi_i},\n",
    "\t\\label{approxExample}\n",
    "\\end{align}\t\n",
    "$$\n",
    "\n",
    "for small $\\Delta \\phi_i$, and $i=1,\\dots,4$. Note that the displacement of ${\\bf \\Phi}$ by $\\Delta \\phi_i$ in the calculation of ${\\bf e}\\left({\\bf \\Phi}+\\Delta {\\bf \\Phi}_i\\right)$ in Equation $\\ref{approxExample}$ is applied only to the corresponding joint angle $\\phi_i$ which is the $i^{th}$ component of ${\\bf \\Phi}$, and not to all components. For example, the position of the end-effector displaced by $\\Delta {\\bf \\Phi}_1$ is:\n",
    "\n",
    "$$\n",
    "\\begin{align}\n",
    "       {\\bf e}\\left({\\bf \\Phi}+\\Delta {\\bf \\Phi}_1\\right) = {\\bf e}\\left(\n",
    "       \\begin{bmatrix}\n",
    "       \t\t\\phi_1\\\\   \\phi_2\\\\ \\phi_3\\\\   \\phi_4\n",
    "       \\end{bmatrix}\n",
    "      +\n",
    "       \\begin{bmatrix}\n",
    "       \t\t\\Delta \\phi_1\\\\   0\\\\ 0\\\\   0\n",
    "       \\end{bmatrix}      \n",
    "      \\right).\n",
    "\t\\label{incrementPhi}\n",
    "\\end{align}\n",
    "$$\n",
    "\n",
    "The displacements for $\\phi_2$, $\\phi_3$, and $\\phi_4$ are calculated analogously. "
   ]
  },
  {
   "cell_type": "code",
   "execution_count": 11,
   "id": "1e39a95d",
   "metadata": {},
   "outputs": [],
   "source": [
    "def J(end_effector_function, Phi):\n",
    "    \"\"\"Computes the value of the function at x\n",
    "    \n",
    "    Args:\n",
    "        end_effector_function: handle to end_effector function \n",
    " \n",
    "    Returns:\n",
    "        Jacobian (np.ndarray): A 3x4 Jacobian matrix\n",
    "    \"\"\"\n",
    "    \n",
    "    # TODO\n",
    "    \n",
    "    Jacobian = np.eye(3,4)    \n",
    "    return Jacobian\n"
   ]
  },
  {
   "cell_type": "markdown",
   "id": "9339445b",
   "metadata": {},
   "source": [
    "### The gradient-descent solution for inverse-kinematics\n",
    "\n",
    "![ik_algorithm](figs/ik_algorithm.png)"
   ]
  },
  {
   "cell_type": "code",
   "execution_count": 12,
   "id": "a4aca248",
   "metadata": {},
   "outputs": [],
   "source": [
    "def gradient_descent_IK(): \n",
    "    \"\"\"Solves the inverse-kinematics problem using the gradient descent\n",
    "    \"\"\"\n",
    "\n",
    "\n",
    "    \n",
    "    return "
   ]
  },
  {
   "cell_type": "code",
   "execution_count": null,
   "id": "314663fd",
   "metadata": {},
   "outputs": [],
   "source": []
  }
 ],
 "metadata": {
  "kernelspec": {
   "display_name": "Python 3",
   "language": "python",
   "name": "python3"
  },
  "language_info": {
   "codemirror_mode": {
    "name": "ipython",
    "version": 3
   },
   "file_extension": ".py",
   "mimetype": "text/x-python",
   "name": "python",
   "nbconvert_exporter": "python",
   "pygments_lexer": "ipython3",
   "version": "3.9.2"
  }
 },
 "nbformat": 4,
 "nbformat_minor": 5
}
